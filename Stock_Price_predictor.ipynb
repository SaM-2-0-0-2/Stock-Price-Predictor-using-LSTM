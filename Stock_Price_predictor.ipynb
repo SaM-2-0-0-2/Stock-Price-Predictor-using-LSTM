{
  "cells": [
    {
      "cell_type": "code",
      "execution_count": null,
      "id": "f48c6b50",
      "metadata": {
        "id": "f48c6b50"
      },
      "outputs": [],
      "source": [
        "#Stock Price Predictor"
      ]
    },
    {
      "cell_type": "code",
      "execution_count": null,
      "id": "548f6bf1",
      "metadata": {
        "id": "548f6bf1"
      },
      "outputs": [],
      "source": [
        "#Importing libraries\n",
        "import pandas as pd\n",
        "import numpy as np\n",
        "import matplotlib.pyplot as plt\n",
        "from sklearn.preprocessing import MinMaxScaler\n",
        "from keras.models import Sequential, load_model\n",
        "from keras.layers import LSTM, Dense, Dropout"
      ]
    },
    {
      "cell_type": "code",
      "execution_count": null,
      "id": "29de776f",
      "metadata": {
        "id": "29de776f"
      },
      "outputs": [],
      "source": [
        "#Reading data\n",
        "df = pd.read_csv('1767133-1729258-1613615-Stock_Price_data_set_(1).csv')"
      ]
    },
    {
      "cell_type": "code",
      "execution_count": null,
      "id": "adbada36",
      "metadata": {
        "id": "adbada36",
        "outputId": "6dbc3e20-c888-4bdf-ef72-28182bba7fa2"
      },
      "outputs": [
        {
          "data": {
            "text/html": [
              "<div>\n",
              "<style scoped>\n",
              "    .dataframe tbody tr th:only-of-type {\n",
              "        vertical-align: middle;\n",
              "    }\n",
              "\n",
              "    .dataframe tbody tr th {\n",
              "        vertical-align: top;\n",
              "    }\n",
              "\n",
              "    .dataframe thead th {\n",
              "        text-align: right;\n",
              "    }\n",
              "</style>\n",
              "<table border=\"1\" class=\"dataframe\">\n",
              "  <thead>\n",
              "    <tr style=\"text-align: right;\">\n",
              "      <th></th>\n",
              "      <th>Date</th>\n",
              "      <th>Open</th>\n",
              "      <th>High</th>\n",
              "      <th>Low</th>\n",
              "      <th>Close</th>\n",
              "      <th>Adj Close</th>\n",
              "      <th>Volume</th>\n",
              "    </tr>\n",
              "  </thead>\n",
              "  <tbody>\n",
              "    <tr>\n",
              "      <th>0</th>\n",
              "      <td>2018-02-05</td>\n",
              "      <td>262.000000</td>\n",
              "      <td>267.899994</td>\n",
              "      <td>250.029999</td>\n",
              "      <td>254.259995</td>\n",
              "      <td>254.259995</td>\n",
              "      <td>11896100</td>\n",
              "    </tr>\n",
              "    <tr>\n",
              "      <th>1</th>\n",
              "      <td>2018-02-06</td>\n",
              "      <td>247.699997</td>\n",
              "      <td>266.700012</td>\n",
              "      <td>245.000000</td>\n",
              "      <td>265.720001</td>\n",
              "      <td>265.720001</td>\n",
              "      <td>12595800</td>\n",
              "    </tr>\n",
              "    <tr>\n",
              "      <th>2</th>\n",
              "      <td>2018-02-07</td>\n",
              "      <td>266.579987</td>\n",
              "      <td>272.450012</td>\n",
              "      <td>264.329987</td>\n",
              "      <td>264.559998</td>\n",
              "      <td>264.559998</td>\n",
              "      <td>8981500</td>\n",
              "    </tr>\n",
              "    <tr>\n",
              "      <th>3</th>\n",
              "      <td>2018-02-08</td>\n",
              "      <td>267.079987</td>\n",
              "      <td>267.619995</td>\n",
              "      <td>250.000000</td>\n",
              "      <td>250.100006</td>\n",
              "      <td>250.100006</td>\n",
              "      <td>9306700</td>\n",
              "    </tr>\n",
              "    <tr>\n",
              "      <th>4</th>\n",
              "      <td>2018-02-09</td>\n",
              "      <td>253.850006</td>\n",
              "      <td>255.800003</td>\n",
              "      <td>236.110001</td>\n",
              "      <td>249.470001</td>\n",
              "      <td>249.470001</td>\n",
              "      <td>16906900</td>\n",
              "    </tr>\n",
              "  </tbody>\n",
              "</table>\n",
              "</div>"
            ],
            "text/plain": [
              "         Date        Open        High         Low       Close   Adj Close  \\\n",
              "0  2018-02-05  262.000000  267.899994  250.029999  254.259995  254.259995   \n",
              "1  2018-02-06  247.699997  266.700012  245.000000  265.720001  265.720001   \n",
              "2  2018-02-07  266.579987  272.450012  264.329987  264.559998  264.559998   \n",
              "3  2018-02-08  267.079987  267.619995  250.000000  250.100006  250.100006   \n",
              "4  2018-02-09  253.850006  255.800003  236.110001  249.470001  249.470001   \n",
              "\n",
              "     Volume  \n",
              "0  11896100  \n",
              "1  12595800  \n",
              "2   8981500  \n",
              "3   9306700  \n",
              "4  16906900  "
            ]
          },
          "execution_count": 6,
          "metadata": {},
          "output_type": "execute_result"
        }
      ],
      "source": [
        "#Displaying first five enteries\n",
        "df.head()"
      ]
    },
    {
      "cell_type": "code",
      "execution_count": null,
      "id": "9cbc8dd9",
      "metadata": {
        "id": "9cbc8dd9",
        "outputId": "cff90a72-639e-4bcb-811c-c736f73b1a5a"
      },
      "outputs": [
        {
          "data": {
            "text/html": [
              "<div>\n",
              "<style scoped>\n",
              "    .dataframe tbody tr th:only-of-type {\n",
              "        vertical-align: middle;\n",
              "    }\n",
              "\n",
              "    .dataframe tbody tr th {\n",
              "        vertical-align: top;\n",
              "    }\n",
              "\n",
              "    .dataframe thead th {\n",
              "        text-align: right;\n",
              "    }\n",
              "</style>\n",
              "<table border=\"1\" class=\"dataframe\">\n",
              "  <thead>\n",
              "    <tr style=\"text-align: right;\">\n",
              "      <th></th>\n",
              "      <th>Date</th>\n",
              "      <th>Open</th>\n",
              "      <th>High</th>\n",
              "      <th>Low</th>\n",
              "      <th>Close</th>\n",
              "      <th>Adj Close</th>\n",
              "      <th>Volume</th>\n",
              "    </tr>\n",
              "  </thead>\n",
              "  <tbody>\n",
              "    <tr>\n",
              "      <th>1004</th>\n",
              "      <td>2022-01-31</td>\n",
              "      <td>401.970001</td>\n",
              "      <td>427.700012</td>\n",
              "      <td>398.200012</td>\n",
              "      <td>427.140015</td>\n",
              "      <td>427.140015</td>\n",
              "      <td>20047500</td>\n",
              "    </tr>\n",
              "    <tr>\n",
              "      <th>1005</th>\n",
              "      <td>2022-02-01</td>\n",
              "      <td>432.959991</td>\n",
              "      <td>458.480011</td>\n",
              "      <td>425.540009</td>\n",
              "      <td>457.130005</td>\n",
              "      <td>457.130005</td>\n",
              "      <td>22542300</td>\n",
              "    </tr>\n",
              "    <tr>\n",
              "      <th>1006</th>\n",
              "      <td>2022-02-02</td>\n",
              "      <td>448.250000</td>\n",
              "      <td>451.980011</td>\n",
              "      <td>426.480011</td>\n",
              "      <td>429.480011</td>\n",
              "      <td>429.480011</td>\n",
              "      <td>14346000</td>\n",
              "    </tr>\n",
              "    <tr>\n",
              "      <th>1007</th>\n",
              "      <td>2022-02-03</td>\n",
              "      <td>421.440002</td>\n",
              "      <td>429.260010</td>\n",
              "      <td>404.279999</td>\n",
              "      <td>405.600006</td>\n",
              "      <td>405.600006</td>\n",
              "      <td>9905200</td>\n",
              "    </tr>\n",
              "    <tr>\n",
              "      <th>1008</th>\n",
              "      <td>2022-02-04</td>\n",
              "      <td>407.309998</td>\n",
              "      <td>412.769989</td>\n",
              "      <td>396.640015</td>\n",
              "      <td>410.170013</td>\n",
              "      <td>410.170013</td>\n",
              "      <td>7782400</td>\n",
              "    </tr>\n",
              "  </tbody>\n",
              "</table>\n",
              "</div>"
            ],
            "text/plain": [
              "            Date        Open        High         Low       Close   Adj Close  \\\n",
              "1004  2022-01-31  401.970001  427.700012  398.200012  427.140015  427.140015   \n",
              "1005  2022-02-01  432.959991  458.480011  425.540009  457.130005  457.130005   \n",
              "1006  2022-02-02  448.250000  451.980011  426.480011  429.480011  429.480011   \n",
              "1007  2022-02-03  421.440002  429.260010  404.279999  405.600006  405.600006   \n",
              "1008  2022-02-04  407.309998  412.769989  396.640015  410.170013  410.170013   \n",
              "\n",
              "        Volume  \n",
              "1004  20047500  \n",
              "1005  22542300  \n",
              "1006  14346000  \n",
              "1007   9905200  \n",
              "1008   7782400  "
            ]
          },
          "execution_count": 7,
          "metadata": {},
          "output_type": "execute_result"
        }
      ],
      "source": [
        "#Displaying last\n",
        "df.tail()"
      ]
    },
    {
      "cell_type": "code",
      "execution_count": null,
      "id": "73012f33",
      "metadata": {
        "id": "73012f33",
        "outputId": "027dd9e6-6254-41bd-b0f0-8b30660d511a"
      },
      "outputs": [
        {
          "data": {
            "text/html": [
              "<div>\n",
              "<style scoped>\n",
              "    .dataframe tbody tr th:only-of-type {\n",
              "        vertical-align: middle;\n",
              "    }\n",
              "\n",
              "    .dataframe tbody tr th {\n",
              "        vertical-align: top;\n",
              "    }\n",
              "\n",
              "    .dataframe thead th {\n",
              "        text-align: right;\n",
              "    }\n",
              "</style>\n",
              "<table border=\"1\" class=\"dataframe\">\n",
              "  <thead>\n",
              "    <tr style=\"text-align: right;\">\n",
              "      <th></th>\n",
              "      <th>Date</th>\n",
              "      <th>Open</th>\n",
              "      <th>High</th>\n",
              "      <th>Low</th>\n",
              "      <th>Close</th>\n",
              "      <th>Adj Close</th>\n",
              "      <th>Volume</th>\n",
              "    </tr>\n",
              "  </thead>\n",
              "  <tbody>\n",
              "    <tr>\n",
              "      <th>0</th>\n",
              "      <td>2018-02-05</td>\n",
              "      <td>262.000000</td>\n",
              "      <td>267.899994</td>\n",
              "      <td>250.029999</td>\n",
              "      <td>254.259995</td>\n",
              "      <td>254.259995</td>\n",
              "      <td>11896100</td>\n",
              "    </tr>\n",
              "    <tr>\n",
              "      <th>1</th>\n",
              "      <td>2018-02-06</td>\n",
              "      <td>247.699997</td>\n",
              "      <td>266.700012</td>\n",
              "      <td>245.000000</td>\n",
              "      <td>265.720001</td>\n",
              "      <td>265.720001</td>\n",
              "      <td>12595800</td>\n",
              "    </tr>\n",
              "    <tr>\n",
              "      <th>2</th>\n",
              "      <td>2018-02-07</td>\n",
              "      <td>266.579987</td>\n",
              "      <td>272.450012</td>\n",
              "      <td>264.329987</td>\n",
              "      <td>264.559998</td>\n",
              "      <td>264.559998</td>\n",
              "      <td>8981500</td>\n",
              "    </tr>\n",
              "    <tr>\n",
              "      <th>3</th>\n",
              "      <td>2018-02-08</td>\n",
              "      <td>267.079987</td>\n",
              "      <td>267.619995</td>\n",
              "      <td>250.000000</td>\n",
              "      <td>250.100006</td>\n",
              "      <td>250.100006</td>\n",
              "      <td>9306700</td>\n",
              "    </tr>\n",
              "    <tr>\n",
              "      <th>4</th>\n",
              "      <td>2018-02-09</td>\n",
              "      <td>253.850006</td>\n",
              "      <td>255.800003</td>\n",
              "      <td>236.110001</td>\n",
              "      <td>249.470001</td>\n",
              "      <td>249.470001</td>\n",
              "      <td>16906900</td>\n",
              "    </tr>\n",
              "    <tr>\n",
              "      <th>...</th>\n",
              "      <td>...</td>\n",
              "      <td>...</td>\n",
              "      <td>...</td>\n",
              "      <td>...</td>\n",
              "      <td>...</td>\n",
              "      <td>...</td>\n",
              "      <td>...</td>\n",
              "    </tr>\n",
              "    <tr>\n",
              "      <th>1004</th>\n",
              "      <td>2022-01-31</td>\n",
              "      <td>401.970001</td>\n",
              "      <td>427.700012</td>\n",
              "      <td>398.200012</td>\n",
              "      <td>427.140015</td>\n",
              "      <td>427.140015</td>\n",
              "      <td>20047500</td>\n",
              "    </tr>\n",
              "    <tr>\n",
              "      <th>1005</th>\n",
              "      <td>2022-02-01</td>\n",
              "      <td>432.959991</td>\n",
              "      <td>458.480011</td>\n",
              "      <td>425.540009</td>\n",
              "      <td>457.130005</td>\n",
              "      <td>457.130005</td>\n",
              "      <td>22542300</td>\n",
              "    </tr>\n",
              "    <tr>\n",
              "      <th>1006</th>\n",
              "      <td>2022-02-02</td>\n",
              "      <td>448.250000</td>\n",
              "      <td>451.980011</td>\n",
              "      <td>426.480011</td>\n",
              "      <td>429.480011</td>\n",
              "      <td>429.480011</td>\n",
              "      <td>14346000</td>\n",
              "    </tr>\n",
              "    <tr>\n",
              "      <th>1007</th>\n",
              "      <td>2022-02-03</td>\n",
              "      <td>421.440002</td>\n",
              "      <td>429.260010</td>\n",
              "      <td>404.279999</td>\n",
              "      <td>405.600006</td>\n",
              "      <td>405.600006</td>\n",
              "      <td>9905200</td>\n",
              "    </tr>\n",
              "    <tr>\n",
              "      <th>1008</th>\n",
              "      <td>2022-02-04</td>\n",
              "      <td>407.309998</td>\n",
              "      <td>412.769989</td>\n",
              "      <td>396.640015</td>\n",
              "      <td>410.170013</td>\n",
              "      <td>410.170013</td>\n",
              "      <td>7782400</td>\n",
              "    </tr>\n",
              "  </tbody>\n",
              "</table>\n",
              "<p>1009 rows × 7 columns</p>\n",
              "</div>"
            ],
            "text/plain": [
              "            Date        Open        High         Low       Close   Adj Close  \\\n",
              "0     2018-02-05  262.000000  267.899994  250.029999  254.259995  254.259995   \n",
              "1     2018-02-06  247.699997  266.700012  245.000000  265.720001  265.720001   \n",
              "2     2018-02-07  266.579987  272.450012  264.329987  264.559998  264.559998   \n",
              "3     2018-02-08  267.079987  267.619995  250.000000  250.100006  250.100006   \n",
              "4     2018-02-09  253.850006  255.800003  236.110001  249.470001  249.470001   \n",
              "...          ...         ...         ...         ...         ...         ...   \n",
              "1004  2022-01-31  401.970001  427.700012  398.200012  427.140015  427.140015   \n",
              "1005  2022-02-01  432.959991  458.480011  425.540009  457.130005  457.130005   \n",
              "1006  2022-02-02  448.250000  451.980011  426.480011  429.480011  429.480011   \n",
              "1007  2022-02-03  421.440002  429.260010  404.279999  405.600006  405.600006   \n",
              "1008  2022-02-04  407.309998  412.769989  396.640015  410.170013  410.170013   \n",
              "\n",
              "        Volume  \n",
              "0     11896100  \n",
              "1     12595800  \n",
              "2      8981500  \n",
              "3      9306700  \n",
              "4     16906900  \n",
              "...        ...  \n",
              "1004  20047500  \n",
              "1005  22542300  \n",
              "1006  14346000  \n",
              "1007   9905200  \n",
              "1008   7782400  \n",
              "\n",
              "[1009 rows x 7 columns]"
            ]
          },
          "execution_count": 8,
          "metadata": {},
          "output_type": "execute_result"
        }
      ],
      "source": [
        "#Displaying whole dataset (first five and last five)\n",
        "df"
      ]
    },
    {
      "cell_type": "code",
      "execution_count": null,
      "id": "05347d97",
      "metadata": {
        "id": "05347d97",
        "outputId": "689ac82a-7510-462d-ce85-dfd90a310f00"
      },
      "outputs": [
        {
          "name": "stdout",
          "output_type": "stream",
          "text": [
            "<class 'pandas.core.frame.DataFrame'>\n",
            "RangeIndex: 1009 entries, 0 to 1008\n",
            "Data columns (total 7 columns):\n",
            " #   Column     Non-Null Count  Dtype  \n",
            "---  ------     --------------  -----  \n",
            " 0   Date       1009 non-null   object \n",
            " 1   Open       1009 non-null   float64\n",
            " 2   High       1009 non-null   float64\n",
            " 3   Low        1009 non-null   float64\n",
            " 4   Close      1009 non-null   float64\n",
            " 5   Adj Close  1009 non-null   float64\n",
            " 6   Volume     1009 non-null   int64  \n",
            "dtypes: float64(5), int64(1), object(1)\n",
            "memory usage: 55.3+ KB\n"
          ]
        }
      ],
      "source": [
        "#Information about data to detect null values (if any)\n",
        "df.info()"
      ]
    },
    {
      "cell_type": "code",
      "execution_count": null,
      "id": "487cdc69",
      "metadata": {
        "id": "487cdc69",
        "outputId": "51e42165-9587-4542-b3b4-0bc4f48887cc"
      },
      "outputs": [
        {
          "data": {
            "text/plain": [
              "(1009, 7)"
            ]
          },
          "execution_count": 10,
          "metadata": {},
          "output_type": "execute_result"
        }
      ],
      "source": [
        "#Getting the number of trading days\n",
        "df.shape"
      ]
    },
    {
      "cell_type": "code",
      "execution_count": null,
      "id": "7db75d20",
      "metadata": {
        "id": "7db75d20"
      },
      "outputs": [],
      "source": [
        "df = df['Open'].values\n",
        "df = df.reshape(-1, 1)"
      ]
    },
    {
      "cell_type": "code",
      "execution_count": null,
      "id": "8098a404",
      "metadata": {
        "id": "8098a404"
      },
      "outputs": [],
      "source": [
        "#Splitting the data into training and testing dataset\n",
        "dataset_train = np.array(df[:int(df.shape[0]*0.8)])\n",
        "dataset_test = np.array(df[int(df.shape[0]*0.8):])"
      ]
    },
    {
      "cell_type": "code",
      "execution_count": null,
      "id": "c3ba9b48",
      "metadata": {
        "id": "c3ba9b48"
      },
      "outputs": [],
      "source": [
        "#Scaling the data\n",
        "scaler = MinMaxScaler(feature_range=(0,1))\n",
        "dataset_train = scaler.fit_transform(dataset_train)\n",
        "dataset_test = scaler.transform(dataset_test)"
      ]
    },
    {
      "cell_type": "code",
      "execution_count": null,
      "id": "7718d16a",
      "metadata": {
        "id": "7718d16a"
      },
      "outputs": [],
      "source": [
        "#A function to craete datasets\n",
        "def create_dataset(df):\n",
        "    x = []\n",
        "    y = []\n",
        "    for i in range(50, df.shape[0]):\n",
        "        x.append(df[i-50:i, 0])\n",
        "        y.append(df[i, 0])\n",
        "    x = np.array(x)\n",
        "    y = np.array(y)\n",
        "    return x,y"
      ]
    },
    {
      "cell_type": "code",
      "execution_count": null,
      "id": "8257a48a",
      "metadata": {
        "id": "8257a48a"
      },
      "outputs": [],
      "source": [
        "#Training and testing data\n",
        "x_train, y_train = create_dataset(dataset_train)\n",
        "x_test, y_test = create_dataset(dataset_test)"
      ]
    },
    {
      "cell_type": "code",
      "execution_count": null,
      "id": "00f3d7a4",
      "metadata": {
        "id": "00f3d7a4"
      },
      "outputs": [],
      "source": [
        "#reshaping data to make it a 3D array in order to use it in LSTM Layer.\n",
        "x_train = np.reshape(x_train, (x_train.shape[0], x_train.shape[1], 1))\n",
        "x_test = np.reshape(x_test, (x_test.shape[0], x_test.shape[1], 1))"
      ]
    },
    {
      "cell_type": "code",
      "execution_count": null,
      "id": "602c9992",
      "metadata": {
        "id": "602c9992"
      },
      "outputs": [],
      "source": [
        "#Model Building\n",
        "model = Sequential()\n",
        "model.add(LSTM(units=96, return_sequences=True, input_shape=(x_train.shape[1], 1)))\n",
        "model.add(Dropout(0.2))\n",
        "model.add(LSTM(units=96,return_sequences=True))\n",
        "model.add(Dropout(0.2))\n",
        "model.add(LSTM(units=96,return_sequences=True))\n",
        "model.add(Dropout(0.2))\n",
        "model.add(LSTM(units=96))\n",
        "model.add(Dropout(0.2))\n",
        "model.add(Dense(units=1))"
      ]
    },
    {
      "cell_type": "code",
      "execution_count": null,
      "id": "75c60f31",
      "metadata": {
        "id": "75c60f31"
      },
      "outputs": [],
      "source": [
        "#reshaping for LSTM Layer\n",
        "_train = np.reshape(x_train, (x_train.shape[0], x_train.shape[1], 1))\n",
        "x_test = np.reshape(x_test, (x_test.shape[0], x_test.shape[1], 1))"
      ]
    },
    {
      "cell_type": "code",
      "execution_count": null,
      "id": "6a523b62",
      "metadata": {
        "id": "6a523b62"
      },
      "outputs": [],
      "source": [
        "#Compling the model\n",
        "model.compile(loss='mean_squared_error', optimizer='adam')"
      ]
    },
    {
      "cell_type": "code",
      "execution_count": null,
      "id": "2f2850c4",
      "metadata": {
        "id": "2f2850c4",
        "outputId": "0395eb2c-c022-4b8d-efcf-488ee94285d6"
      },
      "outputs": [
        {
          "name": "stdout",
          "output_type": "stream",
          "text": [
            "Epoch 1/50\n",
            "24/24 [==============================] - 1s 60ms/step - loss: 0.0062\n",
            "Epoch 2/50\n",
            "24/24 [==============================] - 1s 60ms/step - loss: 0.0058\n",
            "Epoch 3/50\n",
            "24/24 [==============================] - 1s 59ms/step - loss: 0.0057\n",
            "Epoch 4/50\n",
            "24/24 [==============================] - 1s 59ms/step - loss: 0.0055\n",
            "Epoch 5/50\n",
            "24/24 [==============================] - 1s 58ms/step - loss: 0.0064\n",
            "Epoch 6/50\n",
            "24/24 [==============================] - 1s 59ms/step - loss: 0.0054\n",
            "Epoch 7/50\n",
            "24/24 [==============================] - 1s 59ms/step - loss: 0.0056\n",
            "Epoch 8/50\n",
            "24/24 [==============================] - 1s 59ms/step - loss: 0.0050\n",
            "Epoch 9/50\n",
            "24/24 [==============================] - 1s 59ms/step - loss: 0.0054\n",
            "Epoch 10/50\n",
            "24/24 [==============================] - 1s 58ms/step - loss: 0.0049\n",
            "Epoch 11/50\n",
            "24/24 [==============================] - 1s 58ms/step - loss: 0.0052\n",
            "Epoch 12/50\n",
            "24/24 [==============================] - 1s 58ms/step - loss: 0.0049\n",
            "Epoch 13/50\n",
            "24/24 [==============================] - 1s 59ms/step - loss: 0.0053\n",
            "Epoch 14/50\n",
            "24/24 [==============================] - 1s 59ms/step - loss: 0.0044\n",
            "Epoch 15/50\n",
            "24/24 [==============================] - 1s 59ms/step - loss: 0.0045\n",
            "Epoch 16/50\n",
            "24/24 [==============================] - 1s 59ms/step - loss: 0.0048\n",
            "Epoch 17/50\n",
            "24/24 [==============================] - 1s 58ms/step - loss: 0.0046\n",
            "Epoch 18/50\n",
            "24/24 [==============================] - 1s 59ms/step - loss: 0.0041\n",
            "Epoch 19/50\n",
            "24/24 [==============================] - 1s 59ms/step - loss: 0.0040\n",
            "Epoch 20/50\n",
            "24/24 [==============================] - 1s 59ms/step - loss: 0.0042\n",
            "Epoch 21/50\n",
            "24/24 [==============================] - 1s 59ms/step - loss: 0.0040\n",
            "Epoch 22/50\n",
            "24/24 [==============================] - 1s 59ms/step - loss: 0.0042\n",
            "Epoch 23/50\n",
            "24/24 [==============================] - 1s 59ms/step - loss: 0.0045\n",
            "Epoch 24/50\n",
            "24/24 [==============================] - 1s 59ms/step - loss: 0.0038\n",
            "Epoch 25/50\n",
            "24/24 [==============================] - 1s 59ms/step - loss: 0.0038\n",
            "Epoch 26/50\n",
            "24/24 [==============================] - 1s 59ms/step - loss: 0.0034\n",
            "Epoch 27/50\n",
            "24/24 [==============================] - 1s 59ms/step - loss: 0.0031\n",
            "Epoch 28/50\n",
            "24/24 [==============================] - 1s 59ms/step - loss: 0.0033\n",
            "Epoch 29/50\n",
            "24/24 [==============================] - 1s 59ms/step - loss: 0.0034\n",
            "Epoch 30/50\n",
            "24/24 [==============================] - 1s 59ms/step - loss: 0.0030\n",
            "Epoch 31/50\n",
            "24/24 [==============================] - 1s 59ms/step - loss: 0.0031\n",
            "Epoch 32/50\n",
            "24/24 [==============================] - 1s 59ms/step - loss: 0.0030\n",
            "Epoch 33/50\n",
            "24/24 [==============================] - 1s 59ms/step - loss: 0.0033\n",
            "Epoch 34/50\n",
            "24/24 [==============================] - 1s 59ms/step - loss: 0.0034\n",
            "Epoch 35/50\n",
            "24/24 [==============================] - 1s 59ms/step - loss: 0.0029\n",
            "Epoch 36/50\n",
            "24/24 [==============================] - 1s 59ms/step - loss: 0.0028\n",
            "Epoch 37/50\n",
            "24/24 [==============================] - 1s 59ms/step - loss: 0.0033\n",
            "Epoch 38/50\n",
            "24/24 [==============================] - 1s 59ms/step - loss: 0.0032\n",
            "Epoch 39/50\n",
            "24/24 [==============================] - 1s 59ms/step - loss: 0.0026\n",
            "Epoch 40/50\n",
            "24/24 [==============================] - 1s 59ms/step - loss: 0.0026\n",
            "Epoch 41/50\n",
            "24/24 [==============================] - 1s 59ms/step - loss: 0.0029\n",
            "Epoch 42/50\n",
            "24/24 [==============================] - 1s 59ms/step - loss: 0.0024\n",
            "Epoch 43/50\n",
            "24/24 [==============================] - 1s 59ms/step - loss: 0.0028\n",
            "Epoch 44/50\n",
            "24/24 [==============================] - 1s 59ms/step - loss: 0.0024\n",
            "Epoch 45/50\n",
            "24/24 [==============================] - 1s 59ms/step - loss: 0.0029\n",
            "Epoch 46/50\n",
            "24/24 [==============================] - 1s 59ms/step - loss: 0.0025\n",
            "Epoch 47/50\n",
            "24/24 [==============================] - 1s 61ms/step - loss: 0.0024\n",
            "Epoch 48/50\n",
            "24/24 [==============================] - 1s 62ms/step - loss: 0.0025\n",
            "Epoch 49/50\n",
            "24/24 [==============================] - 1s 60ms/step - loss: 0.0022\n",
            "Epoch 50/50\n",
            "24/24 [==============================] - 1s 60ms/step - loss: 0.0024\n"
          ]
        }
      ],
      "source": [
        "#Training the model\n",
        "model.fit(x_train, y_train, epochs=50, batch_size=32)\n",
        "model.save('stock_prediction.h5')"
      ]
    },
    {
      "cell_type": "code",
      "execution_count": null,
      "id": "fb3fac4f",
      "metadata": {
        "id": "fb3fac4f"
      },
      "outputs": [],
      "source": [
        "#Loading the trained model\n",
        "model = load_model('stock_prediction.h5')"
      ]
    },
    {
      "cell_type": "code",
      "execution_count": null,
      "id": "2ca9b9ec",
      "metadata": {
        "id": "2ca9b9ec",
        "outputId": "5822b9cf-7321-4af3-f5c9-9dcc99020ecf"
      },
      "outputs": [
        {
          "name": "stdout",
          "output_type": "stream",
          "text": [
            "5/5 [==============================] - 0s 22ms/step\n"
          ]
        },
        {
          "data": {
            "text/plain": [
              "<matplotlib.legend.Legend at 0x2bf9bcf7340>"
            ]
          },
          "execution_count": 42,
          "metadata": {},
          "output_type": "execute_result"
        },
        {
          "data": {
            "image/png": "[encoded data removed]",
            "text/plain": [
              "<Figure size 1600x800 with 1 Axes>"
            ]
          },
          "metadata": {},
          "output_type": "display_data"
        }
      ],
      "source": [
        "#Prediction Making and Data Visualization\n",
        "predictions = model.predict(x_test)\n",
        "predictions = scaler.inverse_transform(predictions)\n",
        "y_test_scaled = scaler.inverse_transform(y_test.reshape(-1, 1))\n",
        "\n",
        "fig, ax = plt.subplots(figsize=(16,8))\n",
        "ax.set_facecolor('#000041')\n",
        "ax.plot(y_test_scaled, color='red', label='Original price')\n",
        "plt.title(\"Stock Price Graph\")\n",
        "plt.plot(predictions, color='cyan', label='Predicted price')\n",
        "plt.legend()"
      ]
    }
  ],
  "metadata": {
    "kernelspec": {
      "display_name": "Python 3 (ipykernel)",
      "language": "python",
      "name": "python3"
    },
    "language_info": {
      "codemirror_mode": {
        "name": "ipython",
        "version": 3
      },
      "file_extension": ".py",
      "mimetype": "text/x-python",
      "name": "python",
      "nbconvert_exporter": "python",
      "pygments_lexer": "ipython3",
      "version": "3.9.13"
    },
    "colab": {
      "provenance": []
    }
  },
  "nbformat": 4,
  "nbformat_minor": 5
}